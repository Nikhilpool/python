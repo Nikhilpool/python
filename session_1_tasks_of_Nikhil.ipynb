{
 "cells": [
  {
   "cell_type": "markdown",
   "metadata": {
    "id": "A05OG15VqOPF"
   },
   "source": [
    "# Task : Session 1\n",
    "Solve these questions own your own and try to test yourself what you have learned in the session.\n",
    "\n",
    "Happy Learning!"
   ]
  },
  {
   "cell_type": "markdown",
   "metadata": {
    "id": "2doIXf8bqe9_"
   },
   "source": [
    "### Q1 :- Print the given strings as per stated format.\n",
    "\n",
    "**Given strings**:\n",
    "```\n",
    "\"Data\" \"Science\" \"Mentorship\" \"Program\"\n",
    "\"By\" \"CampusX\"\n",
    "```\n",
    "**Output**:\n",
    "```\n",
    "Data-Science-Mentorship-Program-started-By-CampusX\n",
    "```\n",
    "\n",
    "Concept- [Seperator and End]"
   ]
  },
  {
   "cell_type": "code",
   "execution_count": 1,
   "metadata": {
    "id": "-em6d3KErDtp"
   },
   "outputs": [
    {
     "name": "stdout",
     "output_type": "stream",
     "text": [
      "Data-Science-Mentorship-Program-By-CampusX\n"
     ]
    }
   ],
   "source": [
    "list = [\"Data\", \"Science\", \"Mentorship\", \"Program\", \"By\", \"CampusX\"]\n",
    "print(\"-\".join(list))"
   ]
  },
  {
   "cell_type": "markdown",
   "metadata": {
    "id": "1KUpN7ZTrC3_"
   },
   "source": [
    "### Q2:- Write a program that will convert celsius value to fahrenheit."
   ]
  },
  {
   "cell_type": "code",
   "execution_count": 1,
   "metadata": {
    "id": "yxKYhYQiqWfj"
   },
   "outputs": [
    {
     "name": "stdout",
     "output_type": "stream",
     "text": [
      "39.2\n"
     ]
    }
   ],
   "source": [
    "celsious = 4\n",
    "def celsius_value_to_fahrenheit(num):\n",
    "    f =  (num * (9/5)) + 32\n",
    "    return f\n",
    "print(celsius_value_to_fahrenheit(celsious))"
   ]
  },
  {
   "cell_type": "markdown",
   "metadata": {
    "id": "RLrOBBJurLB2"
   },
   "source": [
    "### Q3:- Take 2 numbers as input from the user.Write a program to swap the numbers without using any special python syntax."
   ]
  },
  {
   "cell_type": "code",
   "execution_count": 6,
   "metadata": {
    "id": "yPn7if0TrJ4F"
   },
   "outputs": [
    {
     "name": "stdin",
     "output_type": "stream",
     "text": [
      "num 1 hare:  1\n",
      "num 2 hare:  2\n"
     ]
    },
    {
     "name": "stdout",
     "output_type": "stream",
     "text": [
      "num 1 is 2 num 2 is 1\n"
     ]
    }
   ],
   "source": [
    "num_1 = input(\"num 1 hare: \")\n",
    "num_2 = input(\"num 2 hare: \")\n",
    "\n",
    "num_1,num_2 = num_2,num_1\n",
    "\n",
    "print(f\"num 1 is {num_1} num 2 is {num_2}.\")\n"
   ]
  },
  {
   "cell_type": "markdown",
   "metadata": {
    "id": "waLCP1bjr7ML"
   },
   "source": [
    "### Q4:- Write a program to find the euclidean distance between two coordinates.Take both the coordinates from the user as input.\n"
   ]
  },
  {
   "cell_type": "code",
   "execution_count": 6,
   "metadata": {
    "id": "Pl1Sv-xnrxnH"
   },
   "outputs": [
    {
     "name": "stdout",
     "output_type": "stream",
     "text": [
      "7.211102550927978\n"
     ]
    }
   ],
   "source": [
    "num_1 = input(\"give 1 coordinate hare seprated by ,: \")\n",
    "num_2 = input(\"give 2 coordinate hare seprated by ,: \")\n",
    "\n",
    "all_coordinates = (num_1.split(\",\")) + (num_2.split(\",\"))\n",
    "num_of_axis = int(len(all_coordinates)/2)\n",
    "\n",
    "for i in range(len(all_coordinates)):\n",
    "    all_coordinates[i] = int(all_coordinates[i])\n",
    "\n",
    "first_coordinate = all_coordinates[:num_of_axis]\n",
    "second_coordinate = all_coordinates[num_of_axis:]\n",
    "\n",
    "x = 0\n",
    "for i in range(num_of_axis):\n",
    "    x += (first_coordinate[i]-second_coordinate[i])**2\n",
    "\n",
    "euclidean_distance = x**0.5\n",
    "print(euclidean_distance)"
   ]
  },
  {
   "cell_type": "markdown",
   "metadata": {
    "id": "VLrhg-FRsHjR"
   },
   "source": [
    "### Q5:- Write a program to find the simple interest when the value of principle,rate of interest and time period is provided by the user.\n"
   ]
  },
  {
   "cell_type": "code",
   "execution_count": 6,
   "metadata": {
    "id": "s40DlReZsTmY"
   },
   "outputs": [
    {
     "name": "stdin",
     "output_type": "stream",
     "text": [
      "enter your Principal here:  1000\n",
      "enter your Rate of Interest here:  5\n",
      "enter total time here:  1\n"
     ]
    },
    {
     "name": "stdout",
     "output_type": "stream",
     "text": [
      "you simple intrest is 50.0\n",
      "and your total amount is 1050.0\n"
     ]
    }
   ],
   "source": [
    "Principal = int(input(\"enter your Principal here: \"))\n",
    "Rate_of_Interest = int(input(\"enter your Rate of Interest here: \"))\n",
    "Time = int(input(\"enter total time here: \"))\n",
    "simple_interest = (Principal * Rate_of_Interest * Time)/100\n",
    "print(\"you simple intrest is\",simple_interest)\n",
    "print(\"and your total amount is\",simple_interest+Principal)"
   ]
  },
  {
   "cell_type": "markdown",
   "metadata": {
    "id": "LMy0BTUktYKa"
   },
   "source": [
    "### Q6:- Write a program that will tell the number of dogs and chicken are there when the user will provide the value of total heads and legs.\n",
    "\n",
    "For example:\n",
    "Input:\n",
    "heads -> 4\n",
    "legs -> 12\n",
    "<br>\n",
    "Output:\n",
    "dogs -> 2\n",
    "chicken -> 2\n",
    "\n",
    "\n",
    "\n"
   ]
  },
  {
   "cell_type": "code",
   "execution_count": 3,
   "metadata": {
    "id": "XSBvJoA4tXaG"
   },
   "outputs": [
    {
     "name": "stdin",
     "output_type": "stream",
     "text": [
      "Input heads:  4\n",
      "Input legs:  12\n"
     ]
    },
    {
     "name": "stdout",
     "output_type": "stream",
     "text": [
      "dogs -> 2\n",
      "chicken -> 2 \n"
     ]
    }
   ],
   "source": [
    "head = int(input(\"Input heads: \"))\n",
    "legs = int(input(\"Input legs: \"))\n",
    "x = legs/2\n",
    "num_of_dogs = int(abs(x - head))\n",
    "num_of_legs = int(abs(num_of_dogs - head))\n",
    "print(f\"dogs -> {num_of_dogs}\\nchicken -> {num_of_legs} \")"
   ]
  },
  {
   "cell_type": "markdown",
   "metadata": {
    "id": "gJ7C5kZYt4BP"
   },
   "source": [
    "### Q7:- Write a program to find the sum of squares of first n natural numbers where n will be provided by the user."
   ]
  },
  {
   "cell_type": "code",
   "execution_count": 6,
   "metadata": {
    "id": "_tHsmEHzt2nX"
   },
   "outputs": [
    {
     "name": "stdin",
     "output_type": "stream",
     "text": [
      "input your number here :  4\n"
     ]
    },
    {
     "name": "stdout",
     "output_type": "stream",
     "text": [
      "30 is your answer.\n"
     ]
    }
   ],
   "source": [
    "num = int(input(\"input your number here : \"))\n",
    "answer = 0\n",
    "for i in range(num):\n",
    "    answer += (1+i)**2  \n",
    "print(answer, \"is your answer.\")"
   ]
  },
  {
   "cell_type": "markdown",
   "metadata": {
    "id": "FHrMM7g-yG1h"
   },
   "source": [
    "### Q8:- Given the first 2 terms of an Arithmetic Series.Find the Nth term of the series. Assume all inputs are provided by the user."
   ]
  },
  {
   "cell_type": "code",
   "execution_count": null,
   "metadata": {
    "id": "go4_kmZmyVSx"
   },
   "outputs": [],
   "source": []
  },
  {
   "cell_type": "markdown",
   "metadata": {
    "id": "QgyRX_es1oum"
   },
   "source": [
    "### Q9:- Given 2 fractions, find the sum of those 2 fractions.Take the numerator and denominator values of the fractions from the user."
   ]
  },
  {
   "cell_type": "code",
   "execution_count": 3,
   "metadata": {
    "id": "X05xqFS1yW16"
   },
   "outputs": [
    {
     "name": "stdout",
     "output_type": "stream",
     "text": [
      "2.0\n"
     ]
    }
   ],
   "source": [
    "fraction_1 = \"54\"\n",
    "fraction_2 = \"68\"\n",
    "fr_1 = []\n",
    "fr_2 = []\n",
    "for i in fraction_1:\n",
    "    i = int(i)\n",
    "    fr_1.append(int(i))\n",
    "for i in fraction_2:\n",
    "    i = int(i)\n",
    "    fr_2.append(int(i))\n",
    "\n",
    "x = 0\n",
    "\n",
    "if fr_1[1] == fr_2[1]:\n",
    "    x = fr_1[1]\n",
    "else:\n",
    "    x = fr_1[1] * fr_2[1]\n",
    "\n",
    "answer = ((fr_1[0]*fr_2[1])+(fr_2[0]*fr_1[1]))/x\n",
    "print(answer)\n"
   ]
  },
  {
   "cell_type": "markdown",
   "metadata": {
    "id": "eaql38ln13u7"
   },
   "source": [
    "### Q10:- Given the height, width and breadth of a milk tank, you have to find out how many glasses of milk can be obtained? Assume all the inputs are provided by the user.\n",
    "\n",
    "\n",
    "\n",
    "Input:<br>\n",
    "Dimensions of the milk tank<br>\n",
    "H = 20cm, L = 20cm, B = 20cm\n",
    "<br><br>\n",
    "Dimensions of the glass<br>\n",
    "h = 3cm, r = 1cm"
   ]
  },
  {
   "cell_type": "code",
   "execution_count": 8,
   "metadata": {
    "id": "FePZqno74eWv"
   },
   "outputs": [
    {
     "name": "stdout",
     "output_type": "stream",
     "text": [
      "848.8270801303375\n"
     ]
    }
   ],
   "source": [
    "H = 20\n",
    "L = 20\n",
    "B = 20\n",
    "\n",
    "h = 3\n",
    "r = 1\n",
    "\n",
    "volume_of_tank = H * L * B\n",
    "volume_of_glass = 3.14159 * (r**2) * h\n",
    "number_of_glasses = volume_of_tank/volume_of_glass\n",
    "\n",
    "print(number_of_glasses)\n"
   ]
  }
 ],
 "metadata": {
  "colab": {
   "provenance": []
  },
  "kernelspec": {
   "display_name": "Python 3 (ipykernel)",
   "language": "python",
   "name": "python3"
  },
  "language_info": {
   "codemirror_mode": {
    "name": "ipython",
    "version": 3
   },
   "file_extension": ".py",
   "mimetype": "text/x-python",
   "name": "python",
   "nbconvert_exporter": "python",
   "pygments_lexer": "ipython3",
   "version": "3.11.4"
  }
 },
 "nbformat": 4,
 "nbformat_minor": 4
}
