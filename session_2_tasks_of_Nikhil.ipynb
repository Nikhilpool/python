{
 "cells": [
  {
   "cell_type": "markdown",
   "metadata": {
    "id": "w6RlOAXV2PWh"
   },
   "source": [
    "### `Problem 1`: Write a program that will give you in hand monthly salary after deduction on CTC - HRA(10%), DA(5%), PF(3%) and taxes deduction as below:\n",
    "\n",
    "> Salary(Lakhs) : Tax\n",
    "\n",
    "\n",
    "\n",
    "*   Below 5 : 0%\n",
    "*   5-10 : 10%\n",
    "*   10-20 : 20%\n",
    "*   above 20 : 30%"
   ]
  },
  {
   "cell_type": "code",
   "execution_count": 19,
   "metadata": {
    "id": "7tMHvKYO2etI"
   },
   "outputs": [
    {
     "name": "stdout",
     "output_type": "stream",
     "text": [
      "14560000\n"
     ]
    }
   ],
   "source": [
    "salary = 28000000\n",
    "\n",
    "if salary > 2000000:\n",
    "    income_tax = 30\n",
    "elif salary > 1000000:\n",
    "    income_tax = 20\n",
    "elif salary > 500000:\n",
    "    income_tax = 10\n",
    "elif salary < 5000000:\n",
    "    income_tax = 0\n",
    "\n",
    "total_tax = income_tax + 10 + 5 + 3\n",
    "\n",
    "salary_deduction = (total_tax/100)*salary\n",
    "salary_after_tax = salary - salary_deduction\n",
    "print(int(salary_after_tax))\n"
   ]
  },
  {
   "cell_type": "markdown",
   "metadata": {
    "id": "tYzCGqwl2hfN"
   },
   "source": [
    "### `Problem 2`: Write a program that take a user input of three angles and will find out whether it can form a triangle or not."
   ]
  },
  {
   "cell_type": "code",
   "execution_count": 21,
   "metadata": {
    "id": "FYEqln-I2kxV"
   },
   "outputs": [
    {
     "name": "stdin",
     "output_type": "stream",
     "text": [
      "give all angles separated by ,:  50/52/152\n"
     ]
    },
    {
     "name": "stdout",
     "output_type": "stream",
     "text": [
      "this is not a triangle.\n"
     ]
    }
   ],
   "source": [
    "inputs = input(\"give all angles separated by ,: \").split(\"/\")\n",
    "total_angle = 0\n",
    "for i in inputs:\n",
    "    total_angle += int(i)\n",
    "\n",
    "if total_angle == 180:\n",
    "    print(\"this is a triangle.\")\n",
    "else:\n",
    "    print(\"this is not a triangle.\")\n"
   ]
  },
  {
   "cell_type": "markdown",
   "metadata": {
    "id": "5vEpPh8C2pE4"
   },
   "source": [
    "### `Problem 3`: Write a program that will take user input of cost price and selling price and determines whether its a loss or a profit."
   ]
  },
  {
   "cell_type": "code",
   "execution_count": 23,
   "metadata": {
    "id": "jDwBXlkO2sfl"
   },
   "outputs": [
    {
     "name": "stdin",
     "output_type": "stream",
     "text": [
      "cost price :  15\n",
      "selling price 10\n"
     ]
    },
    {
     "name": "stdout",
     "output_type": "stream",
     "text": [
      "you make loss\n"
     ]
    }
   ],
   "source": [
    "cost_price = int(input(\"cost price : \"))\n",
    "selling_price = int(input(\"selling price\"))\n",
    "\n",
    "if cost_price < selling_price:\n",
    "    print(\"congrats you make profit.\")\n",
    "else:\n",
    "    print(\"you make loss\")\n",
    "\n"
   ]
  },
  {
   "cell_type": "markdown",
   "metadata": {
    "id": "J_FG_cJW2ugT"
   },
   "source": [
    "### `Problem 4`: Write a menu-driven program -\n",
    "1. cm to ft\n",
    "2. km to miles\n",
    "3. USD to INR\n",
    "4. exit"
   ]
  },
  {
   "cell_type": "code",
   "execution_count": 24,
   "metadata": {
    "id": "yBHhaCGQ2zpD"
   },
   "outputs": [
    {
     "name": "stdout",
     "output_type": "stream",
     "text": [
      "you have to chose : \n"
     ]
    },
    {
     "name": "stdin",
     "output_type": "stream",
     "text": [
      "1 for cm to ft\n",
      "2 for km to miles\n",
      "3 for USD to INR\n",
      "4 for exit\n",
      " 6\n",
      "only choices are 1,2,3,4:  9\n",
      "only choices are 1,2,3,4:  4\n"
     ]
    },
    {
     "name": "stdout",
     "output_type": "stream",
     "text": [
      "your choice is exit\n"
     ]
    }
   ],
   "source": [
    "\n",
    "print(\"you have to chose : \")\n",
    "choice = int(input(\"1 for cm to ft\\n2 for km to miles\\n3 for USD to INR\\n4 for exit\\n\"))\n",
    "while True:\n",
    "    if choice == 1:\n",
    "        choice = \"cm to ft\"\n",
    "        break\n",
    "    elif choice == 2:\n",
    "        choice = \"km to miles\"\n",
    "        break\n",
    "    elif choice == 3:\n",
    "        choice = \"USD to INR\"\n",
    "        break\n",
    "    elif choice == 4:\n",
    "        choice = \"exit\"\n",
    "        break\n",
    "    else:\n",
    "        choice = int(input(\"only choices are 1,2,3,4: \"))\n",
    "print(\"your choice is\", choice)\n"
   ]
  },
  {
   "cell_type": "markdown",
   "metadata": {
    "id": "LJJ30_Yw27ZU"
   },
   "source": [
    "### `Problem 5` - Exercise 12: Display Fibonacci series up to 10 terms.\n",
    "\n",
    "*Note: The Fibonacci Sequence is a series of numbers. The next number is found by adding up the two numbers before it. The first two numbers are 0 and 1. For example, 0, 1, 1, 2, 3, 5, 8, 13, 21. The next number in this series above is 13+21 = 34\n"
   ]
  },
  {
   "cell_type": "code",
   "execution_count": 1,
   "metadata": {
    "id": "ae_1rpe52-5R"
   },
   "outputs": [
    {
     "name": "stdout",
     "output_type": "stream",
     "text": [
      "0\n",
      "1\n",
      "1\n",
      "2\n",
      "3\n",
      "5\n",
      "8\n",
      "13\n",
      "21\n",
      "34\n"
     ]
    }
   ],
   "source": [
    "num = 10\n",
    "x = [0, 1, 0]\n",
    "for _ in range(num):\n",
    "    x[2] = x[0] + x[1]\n",
    "    print(x[0])\n",
    "    x[0] = x[1]\n",
    "    x[1] = x[2]\n",
    "\n"
   ]
  },
  {
   "cell_type": "markdown",
   "metadata": {
    "id": "pk_I_S4m3PT5"
   },
   "source": [
    "### `Problem 6` - Find the factorial of a given number.\n",
    "\n",
    "Write a program to use the loop to find the factorial of a given number.\n",
    "\n",
    "The factorial (symbol: `!`) means to multiply all whole numbers from the chosen number down to 1.\n",
    "\n",
    "For example: calculate the factorial of 5\n",
    "\n",
    "```bash\n",
    "5! = 5 × 4 × 3 × 2 × 1 = 120\n",
    "```\n",
    "\n",
    "Output:\n",
    "\n",
    "```bash\n",
    "120\n",
    "```"
   ]
  },
  {
   "cell_type": "code",
   "execution_count": 2,
   "metadata": {
    "id": "lzXxHegx3Rkc"
   },
   "outputs": [
    {
     "name": "stdout",
     "output_type": "stream",
     "text": [
      "120\n"
     ]
    }
   ],
   "source": [
    "num = 5\n",
    "factorial = 1\n",
    "for _ in range(num):\n",
    "    factorial = factorial * num\n",
    "    num -= 1\n",
    "print(factorial)"
   ]
  },
  {
   "cell_type": "markdown",
   "metadata": {
    "id": "-17IOi-g3UpU"
   },
   "source": [
    "### `Problem 7` - Reverse a given integer number.\n",
    "\n",
    "Example:\n",
    "\n",
    "`Input:`\n",
    "\n",
    "```bash\n",
    "76542\n",
    "```\n",
    "\n",
    "`Output:`\n",
    "\n",
    "```bash\n",
    "24567\n",
    "```"
   ]
  },
  {
   "cell_type": "code",
   "execution_count": 10,
   "metadata": {
    "id": "wJwLpKCr3aVA"
   },
   "outputs": [
    {
     "name": "stdin",
     "output_type": "stream",
     "text": [
      "give integer here 123456789\n"
     ]
    },
    {
     "name": "stdout",
     "output_type": "stream",
     "text": [
      "987654321\n"
     ]
    }
   ],
   "source": [
    "num = input(\"give integer here\")\n",
    "print(num[::-1])"
   ]
  },
  {
   "cell_type": "markdown",
   "metadata": {
    "id": "-t8PJQaY3sHf"
   },
   "source": [
    "### `Problem 8`: Take a user input as integer N. Find out the sum from 1 to N. If any number if divisible by 5, then skip that number. And if the sum is greater than 300, don't need to calculate the sum further more. Print the final result. And don't use for loop to solve this problem.\n",
    "\n",
    "**Example 1:**\n",
    "\n",
    "`Input:`\n",
    "\n",
    "```bash\n",
    "30\n",
    "```\n",
    "\n",
    "`Output:`\n",
    "\n",
    "```bash\n",
    "276\n",
    "```"
   ]
  },
  {
   "cell_type": "code",
   "execution_count": 16,
   "metadata": {
    "id": "GZB6mGMP3ujT"
   },
   "outputs": [
    {
     "name": "stdout",
     "output_type": "stream",
     "text": [
      "276\n"
     ]
    }
   ],
   "source": [
    "num = 300\n",
    "answer = 0\n",
    "for i in range(num):\n",
    "    if i % 5 != 0:\n",
    "        check = answer + i \n",
    "        if check > 300:\n",
    "            break\n",
    "        else:\n",
    "            answer += i\n",
    "\n",
    "print(answer)\n"
   ]
  },
  {
   "cell_type": "markdown",
   "metadata": {
    "id": "Q7ggImeA3xm4"
   },
   "source": [
    "### `Problem 9`: Write a program that keeps on accepting a number from the user until the user enters Zero. Display the sum and average of all the numbers."
   ]
  },
  {
   "cell_type": "code",
   "execution_count": 8,
   "metadata": {
    "id": "t_YDSZDe4Kdo"
   },
   "outputs": [
    {
     "name": "stdin",
     "output_type": "stream",
     "text": [
      "input your first num:  25\n",
      "input next num and if you want ot exit input 0:  25\n",
      "input next num and if you want ot exit input 0:  25\n",
      "input next num and if you want ot exit input 0:  0\n"
     ]
    },
    {
     "name": "stdout",
     "output_type": "stream",
     "text": [
      "sum of all given number is 75\n",
      "average of numbers is 25\n"
     ]
    }
   ],
   "source": [
    "num = int(input(\"input your first num: \"))\n",
    "answer = 0\n",
    "turns = 0\n",
    "while True:\n",
    "    answer += num\n",
    "    if num == 0:\n",
    "        break\n",
    "    else:\n",
    "        turns += 1\n",
    "        num = int(input(\"input next num and if you want ot exit input 0: \"))\n",
    "print(\"sum of all given number is\",answer)\n",
    "print(\"average of numbers is\",int(answer/turns))\n"
   ]
  },
  {
   "cell_type": "markdown",
   "metadata": {
    "id": "6EhvEMvm4R7s"
   },
   "source": [
    "###`Problem 9`: Write a program which will find all such numbers which are divisible by 7 but are not a multiple of 5, between 2000 and 3200 (both included). The numbers obtained should be printed in a comma-separated sequence on a single line."
   ]
  },
  {
   "cell_type": "code",
   "execution_count": 14,
   "metadata": {
    "id": "d6RgP1B34T6c"
   },
   "outputs": [
    {
     "name": "stdout",
     "output_type": "stream",
     "text": [
      "138\n",
      "2002, 2009, 2016, 2023, 2037, 2044, 2051, 2058, 2072, 2079, 2086, 2093, 2107, 2114, 2121, 2128, 2142, 2149, 2156, 2163, 2177, 2184, 2191, 2198, 2212, 2219, 2226, 2233, 2247, 2254, 2261, 2268, 2282, 2289, 2296, 2303, 2317, 2324, 2331, 2338, 2352, 2359, 2366, 2373, 2387, 2394, 2401, 2408, 2422, 2429, 2436, 2443, 2457, 2464, 2471, 2478, 2492, 2499, 2506, 2513, 2527, 2534, 2541, 2548, 2562, 2569, 2576, 2583, 2597, 2604, 2611, 2618, 2632, 2639, 2646, 2653, 2667, 2674, 2681, 2688, 2702, 2709, 2716, 2723, 2737, 2744, 2751, 2758, 2772, 2779, 2786, 2793, 2807, 2814, 2821, 2828, 2842, 2849, 2856, 2863, 2877, 2884, 2891, 2898, 2912, 2919, 2926, 2933, 2947, 2954, 2961, 2968, 2982, 2989, 2996, 3003, 3017, 3024, 3031, 3038, 3052, 3059, 3066, 3073, 3087, 3094, 3101, 3108, 3122, 3129, 3136, 3143, 3157, 3164, 3171, 3178, 3192, 3199\n"
     ]
    }
   ],
   "source": [
    "start_num = 2000\n",
    "end_num = 3200\n",
    "loop_num = end_num - start_num\n",
    "answer = []\n",
    "for i in range(loop_num):\n",
    "    if start_num % 7 == 0 and start_num % 5 != 0:\n",
    "        answer.append(str(start_num))\n",
    "    start_num += 1\n",
    "\n",
    "print(len(answer))\n",
    "print(\", \".join(answer))\n"
   ]
  },
  {
   "cell_type": "markdown",
   "metadata": {
    "id": "tYvmRR-G4Vp4"
   },
   "source": [
    "###`Problem 10`: Write a program, which will find all such numbers between 1000 and 3000 (both included) such that each digit of the number is an even number. The numbers obtained should be printed in a space-separated sequence on a single line.\n",
    "\n"
   ]
  },
  {
   "cell_type": "code",
   "execution_count": 20,
   "metadata": {
    "id": "k6Gs1kIf4k19"
   },
   "outputs": [
    {
     "name": "stdout",
     "output_type": "stream",
     "text": [
      "125 \n",
      "2000 2002 2004 2006 2008 2020 2022 2024 2026 2028 2040 2042 2044 2046 2048 2060 2062 2064 2066 2068 2080 2082 2084 2086 2088 2200 2202 2204 2206 2208 2220 2222 2224 2226 2228 2240 2242 2244 2246 2248 2260 2262 2264 2266 2268 2280 2282 2284 2286 2288 2400 2402 2404 2406 2408 2420 2422 2424 2426 2428 2440 2442 2444 2446 2448 2460 2462 2464 2466 2468 2480 2482 2484 2486 2488 2600 2602 2604 2606 2608 2620 2622 2624 2626 2628 2640 2642 2644 2646 2648 2660 2662 2664 2666 2668 2680 2682 2684 2686 2688 2800 2802 2804 2806 2808 2820 2822 2824 2826 2828 2840 2842 2844 2846 2848 2860 2862 2864 2866 2868 2880 2882 2884 2886 2888\n"
     ]
    }
   ],
   "source": [
    "result = []\n",
    "for i in range(1000, 3001):\n",
    "    is_even = True\n",
    "    for x in str(i):\n",
    "        x = int(x)\n",
    "        if x % 2 != 0:\n",
    "            is_even = False\n",
    "            break\n",
    "    if is_even:\n",
    "        result.append(str(i))\n",
    "\n",
    "\n",
    "print(len(result),\"\\n\" + \" \".join(result))\n"
   ]
  },
  {
   "cell_type": "markdown",
   "metadata": {
    "id": "GV18IINT4mf5"
   },
   "source": [
    "###`Problem 11`: A robot moves in a plane starting from the original point (0,0). The robot can move toward UP, DOWN, LEFT and RIGHT with a given steps.\n",
    "The trace of robot movement is shown as the following:\n",
    "```\n",
    "UP 5\n",
    "DOWN 3\n",
    "LEFT 3\n",
    "RIGHT 2\n",
    "!\n",
    "```\n",
    "> The numbers after the direction are steps.\n",
    "\n",
    "> `!` means robot stop there.\n",
    "\n",
    "**Please write a program to compute the distance from current position after a sequence of movement and original point.**\n",
    "\n",
    "*If the distance is a float, then just print the nearest integer.*\n",
    "\n",
    "Example:\n",
    "\n",
    "`Input`:\n",
    "```\n",
    "UP 5\n",
    "DOWN 3\n",
    "LEFT 3\n",
    "RIGHT 2\n",
    "!\n",
    "```\n",
    "`Output`:\n",
    "```\n",
    "2\n",
    "```"
   ]
  },
  {
   "cell_type": "code",
   "execution_count": 22,
   "metadata": {
    "id": "6UNMC2aR4w5x"
   },
   "outputs": [
    {
     "name": "stdin",
     "output_type": "stream",
     "text": [
      "Direction UP :  5\n",
      "Direction DOWN :  3\n",
      "Direction LEFT :  3\n",
      "Direction RIGHT :  2\n"
     ]
    },
    {
     "name": "stdout",
     "output_type": "stream",
     "text": [
      "these are the coordinates -1 2\n",
      "2\n"
     ]
    }
   ],
   "source": [
    "UP = int(input(\"Direction UP : \"))\n",
    "DOWN = int(input(\"Direction DOWN : \"))\n",
    "LEFT = int(input(\"Direction LEFT : \"))\n",
    "RIGHT = int(input(\"Direction RIGHT : \"))\n",
    "\n",
    "x_coordinate = RIGHT - LEFT\n",
    "y_coordinate = UP - DOWN\n",
    "print(\"these are the coordinates\",x_coordinate, y_coordinate)\n",
    "coordinate_distance = ((x_coordinate**2)+(y_coordinate**2))**0.5\n",
    "print(int(coordinate_distance))\n"
   ]
  },
  {
   "cell_type": "markdown",
   "metadata": {
    "id": "3fsAIAhK5GYY"
   },
   "source": [
    "###`Problem 12`:Write a program to print whether a given number is a prime number or not"
   ]
  },
  {
   "cell_type": "code",
   "execution_count": 7,
   "metadata": {
    "id": "j6y91lxy5LZs"
   },
   "outputs": [
    {
     "name": "stdin",
     "output_type": "stream",
     "text": [
      "input number here:  324\n"
     ]
    },
    {
     "name": "stdout",
     "output_type": "stream",
     "text": [
      "324 in not a prime number\n"
     ]
    }
   ],
   "source": [
    "num = int(input(\"input number here: \"))\n",
    "some_primes = [1, 2, 3]\n",
    "if num in some_primes:\n",
    "    print(num, \"is a prime number.\")\n",
    "else:\n",
    "    x = (num**2)-1\n",
    "    if x % 24 == 0:\n",
    "        print(num, \"is a prime number.\")\n",
    "    else:\n",
    "        print(num, \"in not a prime number\")\n",
    "        "
   ]
  },
  {
   "cell_type": "markdown",
   "metadata": {
    "id": "asAbmbK-5NHv"
   },
   "source": [
    "###`Problem 13`:Print all the Armstrong numbers in a given range.\n",
    "Range will be provided by the user<br>\n",
    "\n",
    "\n",
    "Armstrong number is a number that is equal to the sum of cubes of its digits. For example 0, 1, 153, 370, 371 and 407 are the Armstrong numbers."
   ]
  },
  {
   "cell_type": "code",
   "execution_count": 12,
   "metadata": {
    "id": "PZuI67pm5jCT"
   },
   "outputs": [
    {
     "name": "stdin",
     "output_type": "stream",
     "text": [
      "give range of num in _to_ format:  0to1000000\n"
     ]
    },
    {
     "name": "stdout",
     "output_type": "stream",
     "text": [
      "0\n",
      "1\n",
      "153\n",
      "370\n",
      "371\n",
      "407\n",
      "1634\n",
      "8208\n",
      "9474\n",
      "54748\n",
      "92727\n",
      "93084\n",
      "548834\n"
     ]
    }
   ],
   "source": [
    "rang = input(\"give range of num in _to_ format: \").split(\"to\")\n",
    "for i in range(int(rang[0]), (int(rang[1])+1)):\n",
    "    if len(str(i)) == 1:\n",
    "        if i == 0 or i == 1:\n",
    "            print(i)\n",
    "    else:\n",
    "        x = len(str(i))\n",
    "        z = 0\n",
    "        for y in str(i):\n",
    "            z += int(y) ** x\n",
    "        if z == i:\n",
    "            print(i)\n"
   ]
  },
  {
   "cell_type": "markdown",
   "metadata": {
    "id": "ClCQZMqT7gK0"
   },
   "source": [
    "###`Problem 14`:Calculate the angle between the hour hand and minute hand.\n",
    "\n",
    "Note: There can be two angles between hands; we need to print a minimum of two. Also, we need to print the floor of the final result angle. For example, if the final angle is 10.61, we need to print 10.\n",
    "\n",
    "Input:<br>\n",
    "H = 9 , M = 0<br>\n",
    "Output:<br>\n",
    "90<br>\n",
    "Explanation:<br>\n",
    "The minimum angle between hour and minute\n",
    "hand when the time is 9 is 90 degress."
   ]
  },
  {
   "cell_type": "code",
   "execution_count": 9,
   "metadata": {
    "id": "tNBTCZML7jy_"
   },
   "outputs": [
    {
     "name": "stdin",
     "output_type": "stream",
     "text": [
      "input time here in hour:minute :  4:15\n"
     ]
    },
    {
     "name": "stdout",
     "output_type": "stream",
     "text": [
      "30\n"
     ]
    }
   ],
   "source": [
    "time_ = input(\"input time here in hour:minute : \").split(\":\")\n",
    "#if (int(time_[0])*5) == int(time_[1]):\n",
    "    #print(\"angle is 0 degrees.\")\n",
    "#else:\n",
    "Min = abs((int(time_[0])*5) - int(time_[1]))\n",
    "angle = Min * 6\n",
    "print(angle)\n"
   ]
  },
  {
   "cell_type": "markdown",
   "metadata": {
    "id": "GwacF9Co72Qc"
   },
   "source": [
    "###`Problem 15`:Given two rectangles, find if the given two rectangles overlap or not. A rectangle is denoted by providing the x and y coordinates of two points: the left top corner and the right bottom corner of the rectangle. Two rectangles sharing a side are considered overlapping. (L1 and R1 are the extreme points of the first rectangle and L2 and R2 are the extreme points of the second rectangle).\n",
    "\n",
    "Note: It may be assumed that the rectangles are parallel to the coordinate axis.\n",
    "\n",
    "<img src='https://www.geeksforgeeks.org/wp-content/uploads/rectanglesOverlap.png' width='300' height='200'>"
   ]
  },
  {
   "cell_type": "code",
   "execution_count": 13,
   "metadata": {},
   "outputs": [
    {
     "name": "stdout",
     "output_type": "stream",
     "text": [
      "given two rectangles overlap.\n"
     ]
    }
   ],
   "source": [
    "square_1_pt_1 = input(\"give all your inputs for square 1's point 1 here like x1,y1: \").split(\",\")\n",
    "square_1_pt_2 = input(\"give all your inputs for square 1's point 2 here like x2,y2: \").split(\",\")\n",
    "square_2_pt_1 = input(\"give all your inputs for square 2's point 1 here like x1,y1: \").split(\",\")\n",
    "square_2_pt_2 = input(\"give all your inputs for square 2's point 2 here like x2,y2: \").split(\",\")\n",
    "\n",
    "if int(square_1_pt_2[0]) > int(square_2_pt_1[0]) and int(square_1_pt_1[1]) > int(square_2_pt_2[1]):\n",
    "    print(\"given two rectangles overlap.\")\n",
    "else:\n",
    "    print(\" given two rectangles don't overlap.\")\n"
   ]
  }
 ],
 "metadata": {
  "colab": {
   "provenance": []
  },
  "kernelspec": {
   "display_name": "Python 3 (ipykernel)",
   "language": "python",
   "name": "python3"
  },
  "language_info": {
   "codemirror_mode": {
    "name": "ipython",
    "version": 3
   },
   "file_extension": ".py",
   "mimetype": "text/x-python",
   "name": "python",
   "nbconvert_exporter": "python",
   "pygments_lexer": "ipython3",
   "version": "3.11.4"
  }
 },
 "nbformat": 4,
 "nbformat_minor": 4
}
